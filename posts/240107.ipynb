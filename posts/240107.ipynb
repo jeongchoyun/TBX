{
 "cells": [
  {
   "cell_type": "raw",
   "id": "1964a420-a718-47d1-9d70-d9566ffe646c",
   "metadata": {},
   "source": [
    "---\n",
    "title: \"원격컴퓨터에서 개발환경 셋팅하기 (0)\"\n",
    "author: \"정초윤\"\n",
    "date: \"01/08/2024\"\n",
    "---"
   ]
  },
  {
   "cell_type": "markdown",
   "id": "0fd38ee6-bdc4-497e-b3a7-e0121d419be3",
   "metadata": {},
   "source": [
    "# 1. 몇가지 필수 패키지 설치 "
   ]
  },
  {
   "cell_type": "markdown",
   "id": "06e106fc-3700-4fc1-bbd1-b3f103404837",
   "metadata": {},
   "source": [
    "## A Zip, gdebi설치"
   ]
  },
  {
   "cell_type": "markdown",
   "id": "1535d207-ac69-4464-8024-6793d9a1edd6",
   "metadata": {},
   "source": [
    "`-` 아래를 이용하여 설치 \n",
    "\n",
    "```bash \n",
    "apt-get install unzip \n",
    "apt-get install gdebi-core\n",
    "```"
   ]
  },
  {
   "cell_type": "markdown",
   "id": "9d92b75c-7643-4b95-adc7-5356b2fc411f",
   "metadata": {},
   "source": [
    "`-` `apt install` vs `apt-get install`: 예전에는 `apt-get`이었음. 그래서 오래된 앱은 `apt-get`만 되는것도 있다고함. (본적은없음) "
   ]
  },
  {
   "cell_type": "markdown",
   "id": "57fb9f93-a557-4ad0-b8db-4164959184c9",
   "metadata": {},
   "source": [
    "`*` apt install / pip install / conda install 차이\n",
    "\n",
    "- 설치되는 경로가 다름 (그래서 지우는 법도 다름) \n",
    "- apt install 로 설치되는건 우분투 자체의 프로그램 \n",
    "- pip install 로 설치되는건 파이썬 모듈 \n",
    "- 우분투자체의 프로그램: Python, CUDA, Anaconda, Quarto, Git, ... \n",
    "- Python의 모듈: Numpy, Pandas, ... \n",
    "- conda install: 모든 종류의 프로그램을 다 설치할 수 있음.. (apt, pip로만 설치가능한 것이 콘다로는 싹 설치가능, 심지어 tidyverse같은 R패키지도 설치가능)"
   ]
  },
  {
   "cell_type": "markdown",
   "id": "6614e2ec-7a39-474e-8df6-f447e5335188",
   "metadata": {},
   "source": [
    "## B. Kaggle 설정하기 "
   ]
  },
  {
   "cell_type": "markdown",
   "id": "02290640-ca2a-4a3e-9b96-934493a20ed3",
   "metadata": {},
   "source": [
    "`-` 아래를 실행 "
   ]
  },
  {
   "cell_type": "markdown",
   "id": "87b829ee-d69d-4b94-b412-4b58bdcc7151",
   "metadata": {},
   "source": [
    "```bash\n",
    "conda activate ag\n",
    "pip install kaggle \n",
    "```"
   ]
  },
  {
   "cell_type": "markdown",
   "id": "813e8ac9-a859-4547-9da4-08e7d1a3207d",
   "metadata": {},
   "source": [
    "`-` `kaggle.json` 파일 업로드 + `/root/.kaggle`로 복사\n",
    "\n",
    "```bash\n",
    "cp kaggle.json /root/.kaggle\n",
    "```"
   ]
  },
  {
   "cell_type": "markdown",
   "id": "1d2d0da8-e654-44c4-91f6-4c74a33e2bd6",
   "metadata": {},
   "source": [
    "## C. git, quarto 설치"
   ]
  },
  {
   "cell_type": "markdown",
   "id": "8a30dc26-54fa-42f1-b1ff-e8ff4d7bc54c",
   "metadata": {},
   "source": [
    "`-` 아래를 실행"
   ]
  },
  {
   "cell_type": "markdown",
   "id": "948d110f-863a-4511-86a8-f100d527084b",
   "metadata": {},
   "source": [
    "```bash\n",
    "sudo apt-get install git\n",
    "```"
   ]
  },
  {
   "cell_type": "markdown",
   "id": "8ed80a31-70c8-4ff4-b402-00ce8ad1dd5b",
   "metadata": {},
   "source": [
    "```bash\n",
    "wget https://github.com/quarto-dev/quarto-cli/releases/download/v1.3.450/quarto-1.3.450-linux-amd64.deb\n",
    "gdebi quarto-1.3.450-linux-amd64.deb\n",
    "```"
   ]
  }
 ],
 "metadata": {
  "kernelspec": {
   "display_name": "Python 3 (ipykernel)",
   "language": "python",
   "name": "python3"
  },
  "language_info": {
   "codemirror_mode": {
    "name": "ipython",
    "version": 3
   },
   "file_extension": ".py",
   "mimetype": "text/x-python",
   "name": "python",
   "nbconvert_exporter": "python",
   "pygments_lexer": "ipython3",
   "version": "3.10.13"
  }
 },
 "nbformat": 4,
 "nbformat_minor": 5
}
