{
 "cells": [
  {
   "cell_type": "raw",
   "id": "4f86ef8d-d3d0-4ee8-bb6e-054740aeac4e",
   "metadata": {},
   "source": [
    "---\n",
    "title: \"원격컴퓨터에서 개발환경 셋팅하기 (1)\"\n",
    "author: \"정초윤\"\n",
    "date: \"01/08/2024\"\n",
    "---"
   ]
  },
  {
   "cell_type": "markdown",
   "id": "eb46c514-03f3-4f83-8bbb-bd13a6adb9c9",
   "metadata": {},
   "source": [
    "# 1. 원격컴퓨터에서 개발환경 셋팅하기 "
   ]
  },
  {
   "cell_type": "markdown",
   "id": "dc33dc45-44ef-4172-b336-adea99695139",
   "metadata": {},
   "source": [
    "## A. SSH 연결"
   ]
  },
  {
   "cell_type": "markdown",
   "id": "b6b5b27d-121f-45d7-9fd8-424c08a17a9b",
   "metadata": {},
   "source": [
    "`-` 연결하는 방법 \n",
    "\n",
    "``` bash\n",
    "ssh root@210.117.173.186 -p {MY-PORT}\n",
    "```"
   ]
  },
  {
   "cell_type": "markdown",
   "id": "31489fc6-8f45-443e-85ef-66a11129fd6c",
   "metadata": {},
   "source": [
    "## B. password 변경 "
   ]
  },
  {
   "cell_type": "markdown",
   "id": "1ff5e09d-1784-4b83-9cfe-135dbfc03661",
   "metadata": {},
   "source": [
    "`-` 아래를 실행하여 비밀번호를 바꿀 것 \n",
    "\n",
    "```bash\n",
    "passwd root \n",
    "```"
   ]
  },
  {
   "cell_type": "markdown",
   "id": "7c284241-4032-4c79-a8b8-bdb2f8ba81ef",
   "metadata": {},
   "source": [
    "## C. 아나콘다 설치 "
   ]
  },
  {
   "cell_type": "markdown",
   "id": "fe593373-f6fd-4af7-a246-d013b717e136",
   "metadata": {},
   "source": [
    "`-` 아나콘다 홈페이지 접속 $\\to$ 다운로드 링크 확보 $\\to$ 아나콘다 다운로드 \n",
    "\n",
    "``` bash\n",
    "# 아나콘다 홈페 접속\n",
    "# 다운로드링크 확보 (쉬프트+클릭으로 열면 홈페이지 주소 복사가능) \n",
    "wget 복사한주소\n",
    "```"
   ]
  },
  {
   "cell_type": "markdown",
   "id": "2cc82bfd-d27f-4707-9eee-9ea624cb0b22",
   "metadata": {},
   "source": [
    "`-` (아나콘다 설치) 아나콘다를 다운받은 폴더로 가서 아래와 같이\n",
    "실행한다.\n",
    "\n",
    "``` bash\n",
    "bash Anaconda3-2019.03-Linux-x86_64.sh\n",
    "```\n",
    "\n",
    "대충 `bash Ana` 정도까지만 치고 `tab`을 누르면 알아서 완성된다. (스페이스를 누르면서 라이센스텀을 넘긴다)"
   ]
  },
  {
   "cell_type": "markdown",
   "id": "2c3fc612-5692-4725-ae7a-7634aa6c732a",
   "metadata": {},
   "source": [
    "## D. 주피터랩 설치 및 실행 "
   ]
  },
  {
   "cell_type": "markdown",
   "id": "c772feb9-61f8-4d5e-bb0a-244d1922ddc0",
   "metadata": {},
   "source": [
    "`-` 가상환경 설정\n",
    "\n",
    "```bash\n",
    "conda create -n ag python=3.10\n",
    "conda activate ag \n",
    "```"
   ]
  },
  {
   "cell_type": "markdown",
   "id": "6d89caf3-943c-446f-9bd6-b9f74edf3c8d",
   "metadata": {},
   "source": [
    "`-` 주피터랩 설치\n",
    "\n",
    "```bash\n",
    "conda install -c conda-forge jupyterlab \n",
    "conda install -c conda-forge notebook \n",
    "```"
   ]
  },
  {
   "cell_type": "markdown",
   "id": "2787d1ea-9768-4ea7-9296-417cddff3f04",
   "metadata": {
    "tags": []
   },
   "source": [
    "`-` 패스워드 설정\n",
    "\n",
    "``` bash\n",
    "jupyter notebook password\n",
    "## 패스워드 치고\n",
    "## 확인해야함\n",
    "```"
   ]
  },
  {
   "cell_type": "markdown",
   "id": "499c1fc7-8f45-413e-8784-67808b9b081b",
   "metadata": {},
   "source": [
    "`-` 실행 \n",
    "\n",
    "```bash\n",
    "jupyter lab --ip=\"0.0.0.0\" --port={MY-PORT} --no-browser --allow-root &\n",
    "exit\n",
    "```"
   ]
  },
  {
   "cell_type": "markdown",
   "id": "42054fa7-eceb-4f65-9892-2732b53eb4d5",
   "metadata": {},
   "source": [
    "## E. 오토글루온 설치 "
   ]
  },
  {
   "cell_type": "markdown",
   "id": "f14bb614-33d7-4e4f-90aa-986b79a6c36d",
   "metadata": {},
   "source": [
    "`-` ref: <https://auto.gluon.ai/stable/install.html>\n",
    "\n",
    "```bash\n",
    "conda activate ag \n",
    "conda install -c conda-forge mamba\n",
    "mamba install -c conda-forge autogluon\n",
    "```"
   ]
  },
  {
   "cell_type": "markdown",
   "id": "87406b5d-fcb3-4ebf-8d59-400c3e983646",
   "metadata": {},
   "source": [
    "`-` tensorflow 등 복잡한?? 모듈들은 따로 가상환경을 만드는 것 추천"
   ]
  },
  {
   "cell_type": "markdown",
   "id": "44180cf2-ec56-4f7c-9a27-215fc335ce0f",
   "metadata": {},
   "source": [
    "## F. R과 Jupyter의 연결"
   ]
  },
  {
   "cell_type": "markdown",
   "id": "56f5af4e-88a3-4c6e-b3cf-b3f40e3c2aaf",
   "metadata": {},
   "source": [
    "`-` 아래를 이용하여 가상환경생성, 가상환경활성화, 가상환경에R설치,R실행"
   ]
  },
  {
   "cell_type": "markdown",
   "id": "0eec9f13-1f67-4311-87c4-fe45377109e8",
   "metadata": {},
   "source": [
    "```bash \n",
    "conda create -n r \n",
    "conda activate r \n",
    "conda install -c conda-forge r-essentials \n",
    "R\n",
    "```"
   ]
  },
  {
   "cell_type": "markdown",
   "id": "c2d1342c-e2de-4465-a0a8-9f0863eb3cca",
   "metadata": {},
   "source": [
    "`-` R이 실행되면 아래를 입력\n",
    "\n",
    "```r\n",
    "IRkernel::installspec()\n",
    "q() # 이후에 n을 누르고 빠져나간다.\n",
    "```"
   ]
  },
  {
   "cell_type": "markdown",
   "id": "1127bf66-711a-42d2-89db-799213b9164c",
   "metadata": {},
   "source": [
    "`-` 주피터에서 R이 실행되는지 확인한다. "
   ]
  },
  {
   "cell_type": "markdown",
   "id": "6d6a333b-c32f-4b6f-8091-ba3c1aebdfe9",
   "metadata": {},
   "source": [
    "## F. Git을 이용하여 강의노트 다운로드, 업데이트"
   ]
  },
  {
   "cell_type": "markdown",
   "id": "b69e6652-f8ee-41c9-a48c-8bcfb05ca99b",
   "metadata": {},
   "source": [
    "`-` 예를들어 데이터시각화 강의노트를 받는다면 아래와 같이 입력한다. \n",
    "\n",
    "```bash\n",
    "git clone https://github.com/guebin/DV2023.git\n",
    "```"
   ]
  },
  {
   "cell_type": "markdown",
   "id": "1a08faa2-7957-4a37-baf4-ffa8e97c1732",
   "metadata": {},
   "source": [
    "`-` updated된 데이터시각화 강의노트를 받으려면 \"해당폴더로 이동한 후\" 아래와 같이 입력한다. \n",
    "\n",
    "```bash\n",
    "git pull\n",
    "```"
   ]
  },
  {
   "cell_type": "markdown",
   "id": "8b3e3c26-7f13-4f02-9f70-7a2007e31ff4",
   "metadata": {},
   "source": [
    "# 3. 블로그만들기"
   ]
  },
  {
   "cell_type": "markdown",
   "id": "646096dc-ad30-4ccd-8c86-5edbcf480bb8",
   "metadata": {},
   "source": [
    "사용하기 까다로움. (블로그 게시물을 올리는 컴퓨터는 하나로 정리하는게 좋음) "
   ]
  },
  {
   "cell_type": "markdown",
   "id": "e8d3e276-bc07-4ab1-bd5d-1f9d64d57c7c",
   "metadata": {},
   "source": [
    "## A. Quarto설치 "
   ]
  },
  {
   "cell_type": "markdown",
   "id": "5976daed-e737-46dc-858b-c8f3701bf71c",
   "metadata": {},
   "source": [
    "`-` 아래를 이용해 설치 "
   ]
  },
  {
   "cell_type": "markdown",
   "id": "02ab7296-398b-49de-8ecd-a4b888076cbc",
   "metadata": {},
   "source": [
    "```bash\n",
    "wget https://github.com/quarto-dev/quarto-cli/releases/download/v1.3.450/quarto-1.3.450-linux-amd64.deb\n",
    "gdebi quarto-1.3.450-linux-amd64.deb\n",
    "```"
   ]
  },
  {
   "cell_type": "markdown",
   "id": "e887e209-7d7c-455e-a31f-7a3c469a30d6",
   "metadata": {},
   "source": [
    "## B. github 토큰얻기"
   ]
  },
  {
   "cell_type": "markdown",
   "id": "1f6646eb-abbd-4738-aaef-e801a0c84253",
   "metadata": {},
   "source": [
    "`-` 아래의 주소로가서 토큰을 생성 (어디에 잘 저장할 것)"
   ]
  },
  {
   "cell_type": "markdown",
   "id": "7ec1fc2c-c75b-45ea-bec6-1e924c42cd63",
   "metadata": {},
   "source": [
    "> <https://github.com/settings/tokens>"
   ]
  },
  {
   "cell_type": "markdown",
   "id": "90c9757a-f738-494d-bba0-5ca1f3f30094",
   "metadata": {},
   "source": [
    "## C. github repo 생성후 clone"
   ]
  },
  {
   "cell_type": "code",
   "execution_count": null,
   "id": "b8cd5c54-8767-4268-9996-11bb9176e700",
   "metadata": {},
   "outputs": [],
   "source": []
  }
 ],
 "metadata": {
  "kernelspec": {
   "display_name": "Python 3 (ipykernel)",
   "language": "python",
   "name": "python3"
  },
  "language_info": {
   "codemirror_mode": {
    "name": "ipython",
    "version": 3
   },
   "file_extension": ".py",
   "mimetype": "text/x-python",
   "name": "python",
   "nbconvert_exporter": "python",
   "pygments_lexer": "ipython3",
   "version": "3.10.13"
  }
 },
 "nbformat": 4,
 "nbformat_minor": 5
}
